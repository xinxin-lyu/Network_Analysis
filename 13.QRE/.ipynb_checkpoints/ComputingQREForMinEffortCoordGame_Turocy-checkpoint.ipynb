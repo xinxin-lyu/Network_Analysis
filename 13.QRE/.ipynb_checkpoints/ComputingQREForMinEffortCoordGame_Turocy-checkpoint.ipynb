{
 "cells": [
  {
   "cell_type": "code",
   "execution_count": 1,
   "metadata": {},
   "outputs": [],
   "source": [
    "import numpy as np\n",
    "from scipy.optimize import minimize\n",
    "import matplotlib.pyplot as plt\n",
    "%matplotlib inline"
   ]
  },
  {
   "cell_type": "markdown",
   "metadata": {},
   "source": [
    "Consider a minimum-effort coordination game between $N=2$ players drawn from a population of agents. Each player $i$ has two actions: either exert high effort or exert low effort, $a_i∈\\{H,L\\}$. The high effort benefits players only if every player chooses the high-effort. If any player chooses the low-effort, then all players receive only the benefit from the low effort. Thus the payoffs are: $$p(a_i;a_{-i})=1+min_{j∈{1,…,n}}⁡ a_j-ca_i$$"
   ]
  },
  {
   "cell_type": "markdown",
   "metadata": {},
   "source": [
    "# Part 1: Preliminaries"
   ]
  },
  {
   "cell_type": "code",
   "execution_count": 2,
   "metadata": {},
   "outputs": [],
   "source": [
    "# CRRA utility function\n",
    "def CRRA(x,gamma): #can use offset by xMin in case of negative values of x\n",
    "    if gamma == 1:\n",
    "        return np.log(x)\n",
    "    else:\n",
    "        return ((x)**(1-gamma) - 1)/(1-gamma)"
   ]
  },
  {
   "cell_type": "code",
   "execution_count": 3,
   "metadata": {},
   "outputs": [],
   "source": [
    "# Calculate expected utility of action a given other players' mixing prob.\n",
    "# Notice that I'm assuming each one has two actions available. \n",
    "def Utility(sij, pOther,cost,gamma):\n",
    "    n=len(pOther)\n",
    "    pH=pOther[1]**n #Probability that all other play H\n",
    "    u = pH*CRRA(1+min(sij, 1) - cost*sij,gamma) + \\\n",
    "        (1-pH)* CRRA(1+min(sij, 0) - cost*sij,gamma) #Add\n",
    "    return u"
   ]
  },
  {
   "cell_type": "markdown",
   "metadata": {},
   "source": [
    "## Part 2: Compute QRE"
   ]
  },
  {
   "cell_type": "markdown",
   "metadata": {},
   "source": [
    "Assumptions:\n",
    "    * Two agents\n",
    "    * Two actions\n",
    "    * Symmetry\n",
    "    * Minimizer constraints"
   ]
  },
  {
   "cell_type": "code",
   "execution_count": 4,
   "metadata": {},
   "outputs": [],
   "source": [
    "#Define the function whose 0 we want to find\n",
    "def F(p, l = 1,cost=.5,gamma=0): ## probability vector and value of lambda\n",
    "    #with only two pure strategies use H=1 as the reference strategy\n",
    "    H=p[0] - p[1] - l*(Utility(0,np.exp(p),cost,gamma) - Utility(1,np.exp(p),cost,gamma))\n",
    "    res = np.transpose(H)*(H)\n",
    "    return res"
   ]
  },
  {
   "cell_type": "code",
   "execution_count": 5,
   "metadata": {},
   "outputs": [],
   "source": [
    "cons = ({'type': 'eq', 'fun' : lambda p: np.exp(p[0]) + np.exp(p[1]) - 1})"
   ]
  },
  {
   "cell_type": "code",
   "execution_count": 6,
   "metadata": {},
   "outputs": [],
   "source": [
    "cost=.5\n",
    "gamma=.5\n",
    "lSeq = np.arange(0,10,.25)\n",
    "QRE = np.zeros((len(lSeq),2))\n",
    "p0 = np.log([0.5,0.5])\n",
    "for (i,l) in enumerate(lSeq):\n",
    "    res = minimize(F, p0, args=(l,cost,gamma,), method='SLSQP',constraints=cons)\n",
    "    p0 = res.x # use the new value as the new guess for next lambda\n",
    "    QRE[i] = np.exp(res.x)"
   ]
  },
  {
   "cell_type": "code",
   "execution_count": 7,
   "metadata": {},
   "outputs": [
    {
     "name": "stderr",
     "output_type": "stream",
     "text": [
      "C:\\Users\\yrosokha\\AppData\\Local\\conda\\conda\\envs\\python36\\lib\\site-packages\\matplotlib\\legend.py:1364: UserWarning: You have mixed positional and keyword arguments, some input may be discarded.\n",
      "  warnings.warn(\"You have mixed positional and keyword \"\n"
     ]
    },
    {
     "data": {
      "image/png": "[encoded data removed]",
      "text/plain": [
       "<Figure size 432x288 with 1 Axes>"
      ]
     },
     "metadata": {},
     "output_type": "display_data"
    }
   ],
   "source": [
    "#Plot\n",
    "fig, ax = plt.subplots()\n",
    "ax.plot(lSeq, QRE[:,0],lSeq, QRE[:,1])\n",
    "ax.set_xlabel('$\\lambda$')\n",
    "handles, labels = ax.get_legend_handles_labels()\n",
    "lgd = ax.legend(handles, labels = ['$p_L$','$p_H$'], loc = 0)\n",
    "ax.set_title(\"QRE when $\\gamma = %1.1f$ and cost=%1.1f\"%(gamma,cost))\n",
    "plt.show()"
   ]
  },
  {
   "cell_type": "code",
   "execution_count": null,
   "metadata": {
    "collapsed": true
   },
   "outputs": [],
   "source": []
  }
 ],
 "metadata": {
  "kernelspec": {
   "display_name": "Python 3",
   "language": "python",
   "name": "python3"
  },
  "language_info": {
   "codemirror_mode": {
    "name": "ipython",
    "version": 3
   },
   "file_extension": ".py",
   "mimetype": "text/x-python",
   "name": "python",
   "nbconvert_exporter": "python",
   "pygments_lexer": "ipython3",
   "version": "3.7.4"
  }
 },
 "nbformat": 4,
 "nbformat_minor": 2
}
